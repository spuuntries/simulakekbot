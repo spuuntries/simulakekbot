{
  "nbformat": 4,
  "nbformat_minor": 0,
  "metadata": {
    "colab": {
      "name": "simulakek.ipynb",
      "provenance": [],
      "collapsed_sections": [],
      "machine_shape": "hm",
      "private_outputs": true
    },
    "kernelspec": {
      "name": "python3",
      "display_name": "Python 3"
    },
    "language_info": {
      "name": "python"
    },
    "accelerator": "GPU",
    "gpuClass": "standard"
  },
  "cells": [
    {
      "cell_type": "code",
      "source": [
        "!nvidia-smi"
      ],
      "metadata": {
        "id": "uFNU_XJblkfR"
      },
      "execution_count": null,
      "outputs": []
    },
    {
      "cell_type": "code",
      "source": [
        "!apt install python3.10 python3.10-venv"
      ],
      "metadata": {
        "id": "qiF6lQhw3O8l"
      },
      "execution_count": null,
      "outputs": []
    },
    {
      "cell_type": "code",
      "execution_count": null,
      "metadata": {
        "id": "IiBK9miMysFg"
      },
      "outputs": [],
      "source": [
        "%cd /content\n",
        "!rm -r /content/*\n",
        "!git clone --recursive https://github.com/spuuntries/simulakekbot --branch imagen\n",
        "%cd simulakekbot/\n",
        "!python3.10 -m venv env_simulacra\n",
        "!source env_simulacra/bin/activate"
      ]
    },
    {
      "cell_type": "code",
      "source": [
        "!/content/simulakekbot/env_simulacra/bin/pip3.10 install omegaconf resize-right transformers nextcord einops pytorch_lightning wandb"
      ],
      "metadata": {
        "id": "-oIT_RsSzs3f"
      },
      "execution_count": null,
      "outputs": []
    },
    {
      "cell_type": "code",
      "source": [
        "%cd CLIP\n",
        "!/content/simulakekbot/env_simulacra/bin/pip3.10 install .\n",
        "%cd .."
      ],
      "metadata": {
        "id": "ENu4BvLE4ZBX"
      },
      "execution_count": null,
      "outputs": []
    },
    {
      "cell_type": "code",
      "source": [
        "!wget https://the-eye.eu/public/AI/models/yfcc_upscaler_2.ckpt\n",
        "!sha256sum yfcc_upscaler_2.ckpt "
      ],
      "metadata": {
        "id": "MALB4tvg6qIw"
      },
      "execution_count": null,
      "outputs": []
    },
    {
      "cell_type": "code",
      "source": [
        "!mkdir -p latent-diffusion/models/ldm/text2img-large/\n",
        "!wget -O latent-diffusion/models/ldm/text2img-large/model.ckpt https://ommer-lab.com/files/latent-diffusion/nitro/txt2img-f8-large/model.ckpt"
      ],
      "metadata": {
        "id": "M63JAZdy62Vz"
      },
      "execution_count": null,
      "outputs": []
    },
    {
      "cell_type": "code",
      "source": [
        "from IPython.display import clear_output \n",
        "\n",
        "token = input(\"Insert token: \")\n",
        "words = \"\\n\".join([c.strip() for c in input(\"Banned words delimited by commas: \").split(\",\")])\n",
        "channels = \"\\n\".join([c.strip() for c in input(\"Insert channel IDs delimited by commas: \").split(\",\")])\n",
        "!echo $token > token.txt\n",
        "!echo $words > banned_words.txt \n",
        "!echo $channels > channel_whitelist.txt\n",
        "\n",
        "clear_output()"
      ],
      "metadata": {
        "id": "nh8C2tCN67lx"
      },
      "execution_count": null,
      "outputs": []
    },
    {
      "cell_type": "code",
      "source": [
        "!ln -s latent-diffusion/models/ ./models\n",
        "!ln -s latent-diffusion/configs/ ./configs\n",
        "!ln -s latent-diffusion/ldm ./ldm\n",
        "!ln -s taming-transformers/taming ./taming"
      ],
      "metadata": {
        "id": "XROIU4qyCKX9"
      },
      "execution_count": null,
      "outputs": []
    },
    {
      "cell_type": "code",
      "source": [
        "!git pull\n",
        "!PYTORCH_CUDA_ALLOC_CONF=max_split_size_mb:50 CUDA_VISIBLE_DEVICES=0 /content/simulakekbot/env_simulacra/bin/python3.10 simulacra.py"
      ],
      "metadata": {
        "id": "4rh1tdp3CPOy"
      },
      "execution_count": null,
      "outputs": []
    }
  ]
}